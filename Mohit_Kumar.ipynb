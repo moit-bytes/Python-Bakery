{
 "cells": [
  {
   "cell_type": "markdown",
   "metadata": {},
   "source": [
    "# Data Wizard: Manipulate Data Structures and Datasets"
   ]
  },
  {
   "cell_type": "markdown",
   "metadata": {},
   "source": [
    "## Created by Mohit Kumar - CSE B"
   ]
  },
  {
   "cell_type": "markdown",
   "metadata": {},
   "source": [
    "# Problem 1 (Pre-class work for session 10.1)"
   ]
  },
  {
   "cell_type": "markdown",
   "metadata": {},
   "source": [
    "### 1.1 Using the cells below to write my solution to each of the exercises given, there are 11 of them.(Recursion Problems)\n"
   ]
  },
  {
   "cell_type": "markdown",
   "metadata": {},
   "source": [
    "##### Exercise 1"
   ]
  },
  {
   "cell_type": "code",
   "execution_count": 55,
   "metadata": {},
   "outputs": [
    {
     "name": "stdout",
     "output_type": "stream",
     "text": [
      "10\n"
     ]
    }
   ],
   "source": [
    "#To calculate sum of list of numbers \n",
    "\n",
    "def sum1(a_list,list_sum):    \n",
    "    if(len(a_list) == 0):\n",
    "        return list_sum\n",
    "    else:\n",
    "        list_sum = list_sum + a_list.pop() # popping out the last element and adding it to list_sum\n",
    "        return sum1(a_list,list_sum)\n",
    "    \n",
    "a = [-1, 4, 6, -9, 10] \n",
    "print(sum1(a,0))\n",
    "\n",
    "# Sample input = [-1, 4, 6, -9, 10]\n",
    "# Sample output = 10"
   ]
  },
  {
   "cell_type": "markdown",
   "metadata": {},
   "source": [
    "##### Exercise 2"
   ]
  },
  {
   "cell_type": "code",
   "execution_count": 42,
   "metadata": {},
   "outputs": [
    {
     "name": "stdout",
     "output_type": "stream",
     "text": [
      "Enter a number = 1453\n",
      "Enter the base = 16\n",
      "5AD\n"
     ]
    }
   ],
   "source": [
    "# To convert an integer to string of any base\n",
    "\n",
    "# The toStr recurse function converts integer to string of any base\n",
    "\n",
    "def toStr(n, base):\n",
    "    convertString = \"0123456789ABCDEF\" # stores sequence of bases\n",
    "    if n < base:\n",
    "        return convertString[n]\n",
    "    else:\n",
    "        return toStr(n//base, base) + convertString[n % base]\n",
    "        # divides the integer always by base and stores the remainder and passes quotient for next recursion.\n",
    "num = int(input(\"Enter a number = \"))\n",
    "b = int(input(\"Enter the base = \"))\n",
    "print(toStr(num, b)) # passing actual arguments to function\n",
    "\n",
    "# Sample input = (1453, 16) where 1453 is integer and 16 is the base\n",
    "# Sample Output = 5AD which is  a hexadecimal string base 16."
   ]
  },
  {
   "cell_type": "markdown",
   "metadata": {},
   "source": [
    "##### Exercise 3"
   ]
  },
  {
   "cell_type": "code",
   "execution_count": 54,
   "metadata": {},
   "outputs": [
    {
     "name": "stdout",
     "output_type": "stream",
     "text": [
      "34\n"
     ]
    }
   ],
   "source": [
    "#Recursion list sum problem\n",
    "\n",
    "def recur_sum(a_list):\n",
    "    list_sum = 0\n",
    "    for i in a_list:\n",
    "        if(type(i) == type(0)): # checking if the data is integer\n",
    "            list_sum = list_sum + i            \n",
    "        else:\n",
    "            list_sum = list_sum + recur_sum(i) # if it is a list pass it back to the function\n",
    "    return list_sum            \n",
    "    \n",
    "a = [1, 2, [3,4], [5, 6],8,[2,3]]\n",
    "print(recur_sum(a))\n",
    "\n",
    "# Sample input = [1, 2, [3,4], [5, 6],8,[2,3]]\n",
    "# Sample output = 34"
   ]
  },
  {
   "cell_type": "markdown",
   "metadata": {},
   "source": [
    "##### Exercise 4"
   ]
  },
  {
   "cell_type": "code",
   "execution_count": 44,
   "metadata": {},
   "outputs": [
    {
     "name": "stdout",
     "output_type": "stream",
     "text": [
      "Enter a number = 5\n",
      "120\n"
     ]
    }
   ],
   "source": [
    "# To get the factorial of a non negative number\n",
    "\n",
    "def fac(n):\n",
    "    if(n==0): # If number is 0 its factorial is 1\n",
    "        return 1\n",
    "    else:\n",
    "        return n * fac(n-1)\n",
    "num = int(input(\"Enter a number = \")) \n",
    "print(fac(num))\n",
    "\n",
    "# Sample input = 5\n",
    "# Sample output = 120"
   ]
  },
  {
   "cell_type": "markdown",
   "metadata": {},
   "source": [
    "##### Exercise 5"
   ]
  },
  {
   "cell_type": "code",
   "execution_count": 46,
   "metadata": {},
   "outputs": [
    {
     "name": "stdout",
     "output_type": "stream",
     "text": [
      "Enter the number = 9\n",
      "34\n"
     ]
    }
   ],
   "source": [
    "# To get the fibonacci number in its series\n",
    "\n",
    "def fibo(n):\n",
    "    if(n==1):\n",
    "        return 1\n",
    "    elif(n==2):\n",
    "        return 1\n",
    "    else:\n",
    "        return fibo(n-1) + fibo(n-2)\n",
    "    \n",
    "num = int(input(\"Enter the number = \"))\n",
    "print(fibo(num))\n",
    "\n",
    "# Sample Input = 9\n",
    "# Sample Output = 34"
   ]
  },
  {
   "cell_type": "markdown",
   "metadata": {},
   "source": [
    "##### Exercise 6"
   ]
  },
  {
   "cell_type": "code",
   "execution_count": 56,
   "metadata": {},
   "outputs": [
    {
     "name": "stdout",
     "output_type": "stream",
     "text": [
      "Enter number = 345\n",
      "12\n"
     ]
    }
   ],
   "source": [
    "# To calculate sum of the digits \n",
    "\n",
    "def sum_dig(n):\n",
    "    if(n == 0): # If didgit is 0 return 0\n",
    "        return 0\n",
    "    else:\n",
    "        return (n % 10) + sum_dig(n//10) # adding the remainder and passing the integer quotient back\n",
    "\n",
    "num = int(input(\"Enter number = \"))\n",
    "print(sum_dig(num))\n",
    "\n",
    "# Sample input = 345\n",
    "# Sample output = 12"
   ]
  },
  {
   "cell_type": "markdown",
   "metadata": {},
   "source": [
    "##### Exercise 7"
   ]
  },
  {
   "cell_type": "code",
   "execution_count": 4,
   "metadata": {},
   "outputs": [
    {
     "name": "stdout",
     "output_type": "stream",
     "text": [
      "Enter number = 12\n",
      "42\n"
     ]
    }
   ],
   "source": [
    "# To calculate sum of n + (n-2) + (n-4) +....\n",
    "\n",
    "def sum_series(n):\n",
    "    if(n<=0):\n",
    "        return 0\n",
    "    else:\n",
    "        return n + sum_series(n-2) # Everytime passing the number with 2 less\n",
    "\n",
    "num = int(input(\"Enter number = \"))\n",
    "print(sum_series(num))\n",
    "\n",
    "# Sample input = 12\n",
    "# Sample output = 42"
   ]
  },
  {
   "cell_type": "markdown",
   "metadata": {},
   "source": [
    "##### Exercise 8"
   ]
  },
  {
   "cell_type": "code",
   "execution_count": 8,
   "metadata": {},
   "outputs": [
    {
     "name": "stdout",
     "output_type": "stream",
     "text": [
      "Enter the limit = 5\n",
      "2.283333333333333\n"
     ]
    }
   ],
   "source": [
    "#  to calculate the harmonic sum of n-1\n",
    "\n",
    "def harmonic(n):\n",
    "    if(n==1):\n",
    "        return 1\n",
    "    else:\n",
    "        return (1/n) + harmonic(n-1)\n",
    "num = int(input(\"Enter the limit = \"))\n",
    "print(harmonic(num))\n",
    "\n",
    "# Sample input = 5\n",
    "# Sample Output = 2.283333333333333"
   ]
  },
  {
   "cell_type": "markdown",
   "metadata": {},
   "source": [
    "##### Exercise 9"
   ]
  },
  {
   "cell_type": "code",
   "execution_count": 13,
   "metadata": {},
   "outputs": [
    {
     "name": "stdout",
     "output_type": "stream",
     "text": [
      "Enter the limit = 4\n",
      "1.9375\n"
     ]
    }
   ],
   "source": [
    "# to calculate the geometric sum of n-1\n",
    "\n",
    "import math as m\n",
    "def geometric_sum(n):\n",
    "    if(n==0):\n",
    "        return 1\n",
    "    else:\n",
    "        return 1/(m.pow(2,n)) + geometric_sum(n-1) # calculating geometric series of (1/2^n)\n",
    "num = int(input(\"Enter the limit = \"))\n",
    "print(geometric_sum(num))\n",
    "\n",
    "# Sample input = 4\n",
    "# Sample output = 1.9375"
   ]
  },
  {
   "cell_type": "markdown",
   "metadata": {},
   "source": [
    "##### Exercise 10"
   ]
  },
  {
   "cell_type": "code",
   "execution_count": 16,
   "metadata": {},
   "outputs": [
    {
     "name": "stdout",
     "output_type": "stream",
     "text": [
      "Enter a number = 5\n",
      "Enter the power = 1\n",
      "5\n"
     ]
    }
   ],
   "source": [
    "# to calculate the value of 'a' to the power 'b'\n",
    "\n",
    "def pow(m, n):\n",
    "    if(n==0):\n",
    "        return 1\n",
    "    else:\n",
    "        return m * pow(m, n-1) # Every step multiplying the number with itself till power becomes 0\n",
    "    \n",
    "num = int(input(\"Enter a number = \"))\n",
    "p = int(input(\"Enter the power = \"))\n",
    "print(pow(num, p))\n",
    "\n",
    "# Sample input : num = 4 , power = 2\n",
    "# Sample output = 16"
   ]
  },
  {
   "cell_type": "markdown",
   "metadata": {},
   "source": [
    "##### Exercise 11"
   ]
  },
  {
   "cell_type": "code",
   "execution_count": 21,
   "metadata": {},
   "outputs": [
    {
     "name": "stdout",
     "output_type": "stream",
     "text": [
      "num1 = 20\n",
      "num2 = 12\n",
      "4\n"
     ]
    }
   ],
   "source": [
    "# to calculate gcd of two numbers\n",
    "\n",
    "def gcd(p, q):\n",
    "    if (q != 0):\n",
    "        return gcd(q, p%q) # Calculating the remainder and passing it as q.\n",
    "    else:\n",
    "        return p # If q = 0 then p is the gcd\n",
    "\n",
    "print(gcd(int(input(\"num1 = \")),int(input(\"num2 = \"))))\n",
    "\n",
    "# Sample input = 20, 12\n",
    "# Sample output = 4\n",
    "    "
   ]
  },
  {
   "cell_type": "markdown",
   "metadata": {},
   "source": [
    "### 1.2 Write a recursive function that accepts a name as input and replaces each letter in the name with a random letter in the alphabet. For instance, given the name \"Anu,\" your function could return \"Npx.\"\n",
    "\n",
    "The following is a good test case for your code:\n",
    "\n",
    "```\n",
    "your_function(\"Anu\")\n",
    "\n",
    "output:\"Npx\"\n",
    "```"
   ]
  },
  {
   "cell_type": "code",
   "execution_count": 23,
   "metadata": {},
   "outputs": [
    {
     "name": "stdout",
     "output_type": "stream",
     "text": [
      "Enter Name = Anu\n",
      "Mcu\n"
     ]
    }
   ],
   "source": [
    "# importing the random module to generate random alphabets\n",
    "import random as m\n",
    "\n",
    "s=\"\"  # Creating a null string to store the new string\n",
    "\n",
    "def replace(name):\n",
    "    global s\n",
    "    i = len(name) - 1    \n",
    "    if(i==-1):\n",
    "        return s    \n",
    "    name = list(name)\n",
    "    if(name[i].isupper()):\n",
    "        n = m.randint(65,90)   # For upper case characters  \n",
    "    else:\n",
    "        n = m.randint(97,122)  # For lower case characters     \n",
    "                    \n",
    "    s = chr(n) + s\n",
    "    name.pop()   # popping out the last alphabet\n",
    "    return replace(name)\n",
    "\n",
    "n = input(\"Enter Name = \")\n",
    "print(replace(n))\n",
    "\n",
    "# Sample input = Anu \n",
    "# Sample output = Npx(maybe) or Elm(maybe) or any random string generated by the code"
   ]
  },
  {
   "cell_type": "markdown",
   "metadata": {},
   "source": [
    "# Problem 2 (Pre-class work for session 11.2 and 12.1)"
   ]
  },
  {
   "cell_type": "markdown",
   "metadata": {},
   "source": [
    "### 2.1 Using the cells below to write my solution to each of the exercises given, there are 5 of them."
   ]
  },
  {
   "cell_type": "markdown",
   "metadata": {},
   "source": [
    "### ** Before running each of the code below, it is recommended to create your own text files so that the code can open that file. **"
   ]
  },
  {
   "cell_type": "markdown",
   "metadata": {},
   "source": [
    "##### Exercise 1"
   ]
  },
  {
   "cell_type": "code",
   "execution_count": 12,
   "metadata": {},
   "outputs": [
    {
     "name": "stdout",
     "output_type": "stream",
     "text": [
      "Name =  sue\n"
     ]
    }
   ],
   "source": [
    "# a program that prints out the names of students that have more than six quiz scores.\n",
    "# Before running the code create a text file containing the student data\n",
    "\n",
    "data = open(\"student_data.txt\",\"r\") # opening the file in read mode\n",
    "\n",
    "for i in data:\n",
    "    line = i.split() # splitting each line into a list\n",
    "    if(len(line[1:]) > 6):\n",
    "        print(\"Name = \",line[0])\n",
    "\n",
    "data.close() # Closing the file"
   ]
  },
  {
   "cell_type": "markdown",
   "metadata": {},
   "source": [
    "##### Exercise 2"
   ]
  },
  {
   "cell_type": "code",
   "execution_count": 23,
   "metadata": {},
   "outputs": [
    {
     "name": "stdout",
     "output_type": "stream",
     "text": [
      "Name = joe , Average grade= 23.0\n",
      "Name = bill , Average grade= 20.0\n",
      "Name = sue , Average grade= 16.166666666666668\n",
      "Name = grace , Average grade= 23.666666666666668\n",
      "Name = john , Average grade= 35.2\n"
     ]
    }
   ],
   "source": [
    "data = open(\"student_data.txt\",\"r\") # opening the file in read mode\n",
    "for i in data:\n",
    "    line = i.split()\n",
    "    sum1 = 0 \n",
    "    for i in line[1:]: # skipping the first place where name is stored\n",
    "        sum1 = sum1 + int(i)\n",
    "    average = sum1/(len(line[1:]))\n",
    "    print(\"Name = \" + line[0],\", Average grade= \" + str(average))"
   ]
  },
  {
   "cell_type": "markdown",
   "metadata": {},
   "source": [
    "##### Exercise 3"
   ]
  },
  {
   "cell_type": "code",
   "execution_count": 22,
   "metadata": {},
   "outputs": [
    {
     "name": "stdout",
     "output_type": "stream",
     "text": [
      "Name =  joe  , Minimum score =  10  , Maximum Score =  40\n",
      "Name =  bill  , Minimum score =  16  , Maximum Score =  23\n",
      "Name =  sue  , Minimum score =  2  , Maximum Score =  32\n",
      "Name =  grace  , Minimum score =  10  , Maximum Score =  45\n",
      "Name =  john  , Minimum score =  14  , Maximum Score =  89\n"
     ]
    }
   ],
   "source": [
    "data = open(\"student_data.txt\",\"r\") # opening the file in read mode\n",
    "for i in data:\n",
    "    line = i.split()\n",
    "    for i in range(1, len(line)):\n",
    "        line[i] = int(line[i])  # converting each grade into int type  \n",
    "    minn = min(line[1:])\n",
    "    maxx = max(line[1:])\n",
    "    \n",
    "    print(\"Name = \", line[0] ,\" , Minimum score = \", minn, \" , Maximum Score = \", maxx)"
   ]
  },
  {
   "cell_type": "markdown",
   "metadata": {},
   "source": [
    "##### Exercise 4"
   ]
  },
  {
   "cell_type": "code",
   "execution_count": 1,
   "metadata": {},
   "outputs": [
    {
     "name": "stdout",
     "output_type": "stream",
     "text": [
      " The points to plot are as follows [x, y] : \n",
      "['44', '71']\n",
      "['79', '37']\n",
      "['78', '24']\n",
      "['41', '76']\n",
      "['19', '12']\n",
      "['19', '32']\n",
      "['28', '36']\n",
      "['22', '58']\n",
      "['89', '92']\n",
      "['91', '6']\n",
      "['53', '7']\n",
      "['27', '80']\n",
      "['14', '34']\n",
      "['8', '81']\n",
      "['80', '19']\n",
      "['46', '72']\n",
      "['83', '96']\n",
      "['88', '18']\n",
      "['96', '48']\n",
      "['77', '67']\n",
      "M is :  -0.08850297911790925\n",
      "Y coordinate is: 49.19388008909088\n",
      "Y coordinate is: 46.096275819964056\n",
      "Y coordinate is: 46.18477879908197\n",
      "Y coordinate is: 49.45938902644461\n",
      "Y coordinate is: 51.40645456703861\n",
      "Y coordinate is: 51.40645456703861\n",
      "Y coordinate is: 50.60992775497743\n",
      "Y coordinate is: 51.140945629684886\n",
      "Y coordinate is: 45.21124602878496\n",
      "Y coordinate is: 45.034240070549146\n",
      "Y coordinate is: 48.397353277029694\n",
      "Y coordinate is: 50.69843073409534\n",
      "Y coordinate is: 51.84896946262816\n",
      "Y coordinate is: 52.37998733733561\n",
      "Y coordinate is: 46.00777284084615\n",
      "Y coordinate is: 49.016874130855065\n",
      "Y coordinate is: 45.74226390349242\n",
      "Y coordinate is: 45.299749007902875\n",
      "Y coordinate is: 44.5917251749596\n",
      "Y coordinate is: 46.27328177819987\n"
     ]
    }
   ],
   "source": [
    "# Before running it create your own labdata.txt file\n",
    "# importing turtle to perform the said graphics\n",
    "\n",
    "import turtle\n",
    "\n",
    "screen = turtle.Screen() # initializing the turtle window\n",
    "mn = turtle.Turtle() # calling the turtle pointer\n",
    "mn.shape('square') # Giving it a sqaure shape\n",
    "mn.turtlesize(0.08) # Giving the pointer size\n",
    "mn.color('red') # Giving it a color\n",
    "mn.speed(0.8) # giving the turtle a speed\n",
    "\n",
    "def plotregression(t):\n",
    "\n",
    "    sum_of_x = 0 # to calculate sum of x coordinates\n",
    "    sum_of_y = 0 # to calculate sum of y coordinates\n",
    "    count = 0 # to calculate number of coordinates\n",
    "    sumprod = 0 # to calculate the combined sum\n",
    "    sumsqrx =0 # to calculate the mean of the data\n",
    "\n",
    "    labfile = open('labdata.txt','r')  # opening the file in read mode\n",
    "    print(\" The points to plot are as follows [x, y] : \")\n",
    "    for i in labfile:\n",
    "        points = i.split()\n",
    "        print(points) # Printing each coordinates\n",
    "        t.up()\n",
    "        t.setpos(int(points[0]),int(points[1]))\n",
    "        t.stamp()\n",
    "        sum_of_x = sum_of_x + int(points[0])\n",
    "        sum_of_y = sum_of_y + int(points[1])\n",
    "        prod = int(points[0])*int(points[1])\n",
    "        sumprod = sumprod + prod\n",
    "        count += 1\n",
    "        sqrx = int(points[0])**2\n",
    "        sumsqrx = sumsqrx + sqrx\n",
    "\n",
    "    avg_of_x = sum_of_x/count\n",
    "    avg_of_y = sum_of_y/count\n",
    "\n",
    "    m = (sumprod - count*(avg_of_x*avg_of_y))/(sumsqrx- (count*(avg_of_x**2)))\n",
    "    print('M is : ',m )\n",
    "\n",
    "    labfile.close()\n",
    "\n",
    "    labfile = open('labdata.txt','r')  # opening the file in read mode\n",
    "    besttfit = open('bestfit.txt','w') # Creating a new bestfit file\n",
    "\n",
    "    for bestline in labfile: # adding elements from labdata file to bestfit file\n",
    "        line = bestline.split()\n",
    "        y = avg_of_y + m*(int(line[0])-avg_of_x)\n",
    "        print('Y coordinate is:' ,y)\n",
    "        besttfit.write((line[0])+'\\t'+str(y)+'\\n')\n",
    "    labfile.close() # closing the labdata file\n",
    "    besttfit.close() # closing the bestfit file\n",
    "\n",
    "\n",
    "\n",
    "    bestfitline = open('bestfit.txt','r')\n",
    "    for line in bestfitline:\n",
    "        value = line.split()\n",
    "        t.goto(float(value[0]),float(value[1]))\n",
    "        t.down()\n",
    "\n",
    "    t.write('Best fit line')\n",
    "    bestfitline.close()\n",
    "\n",
    "\n",
    "screen.setworldcoordinates(-10,-10,120,120) # setting the coordinates as -10,-10,120,120\n",
    "figure = plotregression(mn)\n",
    "\n",
    "screen.exitonclick() # The screen should exit on our click"
   ]
  },
  {
   "cell_type": "markdown",
   "metadata": {},
   "source": [
    "##### Exercise 5"
   ]
  },
  {
   "cell_type": "code",
   "execution_count": 1,
   "metadata": {},
   "outputs": [],
   "source": [
    "# Before running it create your own mystery.txt file\n",
    "# importing turtle module to use the the turtle pointer to draw\n",
    "import turtle\n",
    "\n",
    "turt = turtle.Turtle() # initializing the turtle pointer\n",
    "mn = turtle.Screen()# initializing the screen\n",
    "mn.setworldcoordinates(-300, -300, 300, 300) # setting the coordinates\n",
    "\n",
    "data = open(\"mystery.txt\", \"r\") # opening the file in read mode\n",
    "\n",
    "for i in data:\n",
    "    line = i.split()\n",
    "    if line[0] == \"UP\":\n",
    "        turt.up() # giving command to turtle to move up\n",
    "    else:\n",
    "        if line[0] == \"DOWN\":\n",
    "            turt.down() # giving command to turtle to move down\n",
    "        else:\n",
    "            # must be coords\n",
    "            turt.goto(int(line[0]), int(line[1]))\n",
    "\n",
    "data.close() #closing the mystery file which showed us a dianosaur\n",
    "mn.exitonclick() # closing the turtle screen on click"
   ]
  },
  {
   "cell_type": "markdown",
   "metadata": {},
   "source": [
    "### 2.2 Use the cells below to write your recursive function and test cases"
   ]
  },
  {
   "cell_type": "markdown",
   "metadata": {},
   "source": [
    "Write a function that accepts two data frames and two arguments as inputs:\n",
    "- The first argument should tell the function whether you want to stack two data frames vertically (i.e., by stacking their rows on top of each other), or horizontally.\n",
    "- The second argument should tell the function whether you'd like to inner or outer join the two data frames.\n",
    "\n",
    "\n",
    "Use this function to combine two unrelated data frames. You must include in your solution the two original data frames and the resulting data frame."
   ]
  },
  {
   "cell_type": "code",
   "execution_count": 26,
   "metadata": {},
   "outputs": [
    {
     "name": "stdout",
     "output_type": "stream",
     "text": [
      "Enter 0 for vertical OR Enter 1 for horizontal = 0\n",
      "Enter how u want join them(inner, outer, etc ..) = outer\n",
      "\n",
      " The first data frame given is :\n",
      "\n",
      "        country    capital    area  population\n",
      "0        Brazil   Brasilia   8.516      200.40\n",
      "1        Russia     Moscow  17.100      143.50\n",
      "2         India  New Dehli   3.286     1252.00\n",
      "3         China    Beijing   9.597     1357.00\n",
      "4  South Africa   Pretoria   1.221       52.98\n",
      "\n",
      " The second data frame given is :\n",
      "\n",
      "    country       capital currency\n",
      "0    Brazil      Brasilia     Real\n",
      "1    Russia        Moscow    Ruble\n",
      "2     India     New Dehli   Rupees\n",
      "3     China       Beijing     Yuan\n",
      "4  Malaysia  Kuala Lumpur  Ringgit\n",
      "\n",
      " The new data frame after joining is below :\n",
      " \n",
      "     area       capital       country currency  population\n",
      "0   8.516      Brasilia        Brazil      NaN      200.40\n",
      "1  17.100        Moscow        Russia      NaN      143.50\n",
      "2   3.286     New Dehli         India      NaN     1252.00\n",
      "3   9.597       Beijing         China      NaN     1357.00\n",
      "4   1.221      Pretoria  South Africa      NaN       52.98\n",
      "0     NaN      Brasilia        Brazil     Real         NaN\n",
      "1     NaN        Moscow        Russia    Ruble         NaN\n",
      "2     NaN     New Dehli         India   Rupees         NaN\n",
      "3     NaN       Beijing         China     Yuan         NaN\n",
      "4     NaN  Kuala Lumpur      Malaysia  Ringgit         NaN\n"
     ]
    }
   ],
   "source": [
    "# Importing pandas to work with data frames\n",
    "import pandas as pd\n",
    "\n",
    "def my_func(df1, df2, stack1, stack2): # passing four arguments  \n",
    "    print(\"\\n The first data frame given is :\\n\")\n",
    "    print(df1)    # printing first dataframe\n",
    "    \n",
    "    print(\"\\n The second data frame given is :\\n\")\n",
    "    print(df2)    # printing the second data frame\n",
    "    \n",
    "    print(\"\\n The new data frame after joining is below :\\n \")\n",
    "    # joining the two data frames according to user\n",
    "    df = pd.concat([df1, df2], join = stack2, axis = stack1, sort = 'True')\n",
    "    \n",
    "    return(df) # returning the new data frame\n",
    "\n",
    "d1 = pd.DataFrame({\"country\": [\"Brazil\", \"Russia\", \"India\", \"China\", \"South Africa\"],\n",
    "       \"capital\": [\"Brasilia\", \"Moscow\", \"New Dehli\", \"Beijing\", \"Pretoria\"],\n",
    "       \"area\": [8.516, 17.10, 3.286, 9.597, 1.221],\n",
    "       \"population\": [200.4, 143.5, 1252, 1357, 52.98] }) \n",
    "\n",
    "d2 = pd.DataFrame({\"country\": [\"Brazil\", \"Russia\", \"India\", \"China\", \"Malaysia\"] ,\n",
    "       \"capital\":[\"Brasilia\", \"Moscow\", \"New Dehli\", \"Beijing\", \"Kuala Lumpur\"],\n",
    "       \"currency\": [\"Real\", \"Ruble\", \"Rupees\", \"Yuan\", \"Ringgit\"]})\n",
    "\n",
    "s1 = int(input(\"Enter 0 for vertical OR Enter 1 for horizontal = \"))\n",
    "s2 = input(\"Enter how u want join them(inner, outer, etc ..) = \")\n",
    "print(my_func(d1,d2,s1,s2)) # passing the actual arguments"
   ]
  },
  {
   "cell_type": "markdown",
   "metadata": {},
   "source": [
    "# Problem 3 (Pre-class work for session 9.2)"
   ]
  },
  {
   "cell_type": "markdown",
   "metadata": {},
   "source": [
    "### 3.1 Use the cell below to load the datafile"
   ]
  },
  {
   "cell_type": "code",
   "execution_count": 27,
   "metadata": {},
   "outputs": [
    {
     "name": "stdout",
     "output_type": "stream",
     "text": [
      "     outlook temperature humidity  windy play\n",
      "0   overcast         hot     high  False  yes\n",
      "1   overcast        cool   normal   True  yes\n",
      "2   overcast        mild     high   True  yes\n",
      "3   overcast         hot   normal  False  yes\n",
      "4      rainy        mild     high  False  yes\n",
      "5      rainy        cool   normal  False  yes\n",
      "6      rainy        cool   normal   True   no\n",
      "7      rainy        mild   normal  False  yes\n",
      "8      rainy        mild     high   True   no\n",
      "9      sunny         hot     high  False   no\n",
      "10     sunny         hot     high   True   no\n",
      "11     sunny        mild     high  False   no\n",
      "12     sunny        cool   normal  False  yes\n",
      "13     sunny        mild   normal   True  yes\n"
     ]
    }
   ],
   "source": [
    "# Importing pandas to work with data frames\n",
    "import pandas as pd\n",
    "\n",
    "# reading the csv file from the given link\n",
    "\n",
    "df = pd.read_csv(\"https://gist.githubusercontent.com/bigsnarfdude/515849391ad37fe593997fe0db98afaa/raw/f663366d17b7d05de61a145bbce7b2b961b3b07f/weather.csv\")\n",
    "print(df)"
   ]
  },
  {
   "cell_type": "markdown",
   "metadata": {},
   "source": [
    "### 3.2 Use the cell below to write a code that turns the datafile upside down"
   ]
  },
  {
   "cell_type": "code",
   "execution_count": 16,
   "metadata": {},
   "outputs": [
    {
     "name": "stdout",
     "output_type": "stream",
     "text": [
      "     outlook temperature humidity  windy play\n",
      "0      sunny        mild   normal   True  yes\n",
      "1      sunny        cool   normal  False  yes\n",
      "2      sunny        mild     high  False   no\n",
      "3      sunny         hot     high   True   no\n",
      "4      sunny         hot     high  False   no\n",
      "5      rainy        mild     high   True   no\n",
      "6      rainy        mild   normal  False  yes\n",
      "7      rainy        cool   normal   True   no\n",
      "8      rainy        cool   normal  False  yes\n",
      "9      rainy        mild     high  False  yes\n",
      "10  overcast         hot   normal  False  yes\n",
      "11  overcast        mild     high   True  yes\n",
      "12  overcast        cool   normal   True  yes\n",
      "13  overcast         hot     high  False  yes\n"
     ]
    }
   ],
   "source": [
    "# Importing pandas to work with data frames\n",
    "import pandas as pd\n",
    "df = pd.read_csv(\"https://gist.githubusercontent.com/bigsnarfdude/515849391ad37fe593997fe0db98afaa/raw/f663366d17b7d05de61a145bbce7b2b961b3b07f/weather.csv\")\n",
    "\n",
    "df = df[::-1] # making the dataframe upside down\n",
    "\n",
    "df.reset_index(inplace=True) # reseting the index\n",
    "del df['index'] # deleting the previous index\n",
    "\n",
    "print(df)"
   ]
  },
  {
   "cell_type": "markdown",
   "metadata": {},
   "source": [
    "# References\n",
    "If you used any references to finish your assignment, include them below"
   ]
  },
  {
   "cell_type": "markdown",
   "metadata": {},
   "source": [
    "### The whole assignment wouldn't be a success without the help of the following resources :\n",
    "### 1.) https://www.learnpython.org/en/Pandas_Basics\n",
    "### 2.) https://www.shanelynn.ie/merge-join-dataframes-python-pandas-index-1/\n",
    "### 3.) https://runestone.academy/runestone/default/user/login?_next=/runestone/default/index\n",
    "### 4.) https://www.geeksforgeeks.org/python-set-operations-union-intersection-difference-symmetric-difference/\n",
    "### 5.)https://stackoverflow.com/\n",
    "\n",
    "### Also the following books helped me a lot to work with the problems :\n",
    "### 1.) Reema Thareja\n",
    "### 2.) How to think like a computer scientist\n"
   ]
  },
  {
   "cell_type": "code",
   "execution_count": null,
   "metadata": {},
   "outputs": [],
   "source": []
  }
 ],
 "metadata": {
  "kernelspec": {
   "display_name": "Python 3",
   "language": "python",
   "name": "python3"
  },
  "language_info": {
   "codemirror_mode": {
    "name": "ipython",
    "version": 3
   },
   "file_extension": ".py",
   "mimetype": "text/x-python",
   "name": "python",
   "nbconvert_exporter": "python",
   "pygments_lexer": "ipython3",
   "version": "3.7.3"
  }
 },
 "nbformat": 4,
 "nbformat_minor": 2
}
